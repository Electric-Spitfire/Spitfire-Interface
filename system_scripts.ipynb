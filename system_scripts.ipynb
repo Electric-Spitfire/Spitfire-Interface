{
 "cells": [
  {
   "cell_type": "markdown",
   "id": "af5006ee",
   "metadata": {},
   "source": [
    "### request_system_update\n",
    "* request_battery_update\n",
    "* request_motor_update\n",
    "* request_temp_update"
   ]
  },
  {
   "cell_type": "markdown",
   "id": "28c14194",
   "metadata": {},
   "source": [
    "request_battery_update"
   ]
  },
  {
   "cell_type": "code",
   "execution_count": 1,
   "id": "676a37f7",
   "metadata": {},
   "outputs": [],
   "source": [
    "import dalybms\n",
    "\n",
    "# bms_ports = [\"/dev/ttyUSB0\", \"/dev/ttyUSB1\", \"/dev/ttyUSB2\"]\n",
    "\n",
    "# responses = []\n",
    "\n",
    "# for bms in bms_ports:\n",
    "#     dalybms.connect(bms)\n",
    "#     response_dict = dalybms.get_all()\n",
    "#     responses.append(response_dict)\n",
    "#     dalybms.disconnect()\n",
    "    \n",
    "# # possibly average responses "
   ]
  },
  {
   "cell_type": "markdown",
   "id": "4f061a5d",
   "metadata": {},
   "source": [
    "request_motor_update"
   ]
  },
  {
   "cell_type": "code",
   "execution_count": 4,
   "id": "0dd97f00",
   "metadata": {},
   "outputs": [],
   "source": [
    "import canopen\n",
    "\n",
    "# network = canopen.Network()\n",
    "\n",
    "# network.connect(channel='can0', bustype='socketcan')\n",
    "\n",
    "# node = network.add_node(6, '/path/to/object_dictionary.eds')\n",
    "\n",
    "# local_node = canopen.LocalNode(1, '/path/to/master_dictionary.eds')\n",
    "# network.add_node(local_node)"
   ]
  },
  {
   "cell_type": "markdown",
   "id": "4cfd0a8e",
   "metadata": {},
   "source": [
    "request_temp_update"
   ]
  },
  {
   "cell_type": "code",
   "execution_count": null,
   "id": "bd5d30f4",
   "metadata": {},
   "outputs": [],
   "source": [
    "# TODO "
   ]
  },
  {
   "cell_type": "markdown",
   "id": "cf2875a8",
   "metadata": {},
   "source": [
    "request_system_update"
   ]
  },
  {
   "cell_type": "code",
   "execution_count": null,
   "id": "3b11696a",
   "metadata": {},
   "outputs": [],
   "source": [
    "# import read_battery_update\n",
    "# import read_motor_update\n",
    "# import read_temp_update\n",
    "# import SQLite\n",
    "\n",
    "# connect to database\n",
    "# load and package system update\n",
    "# insert into database\n",
    "# disconnect"
   ]
  },
  {
   "cell_type": "markdown",
   "id": "ff05e854",
   "metadata": {},
   "source": [
    "## batch_send_updates"
   ]
  },
  {
   "cell_type": "code",
   "execution_count": null,
   "id": "f8e9dc56",
   "metadata": {},
   "outputs": [],
   "source": [
    "# import SQLite\n",
    "\n",
    "# connect to local SQLite database\n",
    "# connect to remote MySQL database\n",
    "# query local database\n",
    "# package batch update\n",
    "# send batch to remote MySQL database \n",
    "# wait for success\n",
    "# if successful then purge all but most recent data from local SQLite database\n",
    "# else ? # terminate? set a max on local database and lose data until cell reception returns \n"
   ]
  }
 ],
 "metadata": {
  "kernelspec": {
   "display_name": "Python 3",
   "language": "python",
   "name": "python3"
  },
  "language_info": {
   "codemirror_mode": {
    "name": "ipython",
    "version": 3
   },
   "file_extension": ".py",
   "mimetype": "text/x-python",
   "name": "python",
   "nbconvert_exporter": "python",
   "pygments_lexer": "ipython3",
   "version": "3.8.13"
  }
 },
 "nbformat": 4,
 "nbformat_minor": 5
}
